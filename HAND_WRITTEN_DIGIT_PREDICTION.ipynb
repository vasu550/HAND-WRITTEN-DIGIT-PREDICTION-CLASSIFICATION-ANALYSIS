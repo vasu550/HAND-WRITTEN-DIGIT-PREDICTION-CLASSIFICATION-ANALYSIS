{
  "nbformat": 4,
  "nbformat_minor": 0,
  "metadata": {
    "colab": {
      "provenance": []
    },
    "kernelspec": {
      "name": "python3",
      "display_name": "Python 3"
    },
    "language_info": {
      "name": "python"
    }
  },
  "cells": [
    {
      "cell_type": "markdown",
      "source": [
        "## ***HAND WRITTEN DIGIT PREDICTION-CLASSIFICATION ANALYSIS***"
      ],
      "metadata": {
        "id": "t1PSMrXK9DMJ"
      }
    },
    {
      "cell_type": "markdown",
      "source": [
        "The digit dataset consists of 8x8 pixel images of digits. The images attribute of the dataset stores 8x8 arrays of grayscale values for each image. We will use these arrays to visualize the first 4 images. The target attribute of the dataset stores the digit each image represents."
      ],
      "metadata": {
        "id": "xMqr_WxE9WPl"
      }
    },
    {
      "cell_type": "markdown",
      "source": [
        "## **Import Library**"
      ],
      "metadata": {
        "id": "5JhijSo_-ifD"
      }
    },
    {
      "cell_type": "code",
      "source": [
        "import pandas as pd"
      ],
      "metadata": {
        "id": "6vZxq_xR-t_a"
      },
      "execution_count": null,
      "outputs": []
    },
    {
      "cell_type": "code",
      "source": [
        "import numpy as np"
      ],
      "metadata": {
        "id": "FmRWK4Rt-0fV"
      },
      "execution_count": null,
      "outputs": []
    },
    {
      "cell_type": "code",
      "source": [
        "import matplotlib.pyplot as plt"
      ],
      "metadata": {
        "id": "W4VG0utU-5Zr"
      },
      "execution_count": null,
      "outputs": []
    },
    {
      "cell_type": "markdown",
      "source": [
        "## **Import Data**"
      ],
      "metadata": {
        "id": "kWLTxHwL-_Dx"
      }
    },
    {
      "cell_type": "code",
      "source": [
        "from sklearn.datasets import load_digits"
      ],
      "metadata": {
        "id": "V25od12n-76N"
      },
      "execution_count": null,
      "outputs": []
    },
    {
      "cell_type": "code",
      "source": [
        "df=load_digits()"
      ],
      "metadata": {
        "id": "efsWZ0iU_j-r"
      },
      "execution_count": null,
      "outputs": []
    },
    {
      "cell_type": "code",
      "source": [
        "_,axes=plt.subplots(nrows=1,ncols=4,figsize=(10,3))\n",
        "for ax,image,label in zip(axes,df.images,df.target):\n",
        "  ax.set_axis_off()\n",
        "  ax.imshow(image,cmap=plt.cm.gray_r,interpolation=\"nearest\")\n",
        "  ax.set_title(\"Training:%i\"%label)"
      ],
      "metadata": {
        "colab": {
          "base_uri": "https://localhost:8080/",
          "height": 227
        },
        "id": "tsOfkI8__mcd",
        "outputId": "432bc4f8-84a2-450e-8593-a62dee7223cc"
      },
      "execution_count": null,
      "outputs": [
        {
          "output_type": "display_data",
          "data": {
            "text/plain": [
              "<Figure size 1000x300 with 4 Axes>"
            ],
            "image/png": "[encoded data removed]"
          },
          "metadata": {}
        }
      ]
    },
    {
      "cell_type": "markdown",
      "source": [
        "## **Data PreProcessing**"
      ],
      "metadata": {
        "id": "8RX-_VOZAvhV"
      }
    },
    {
      "cell_type": "markdown",
      "source": [
        "8x8 image"
      ],
      "metadata": {
        "id": "4uk8IL6qDU-3"
      }
    },
    {
      "cell_type": "markdown",
      "source": [
        "![k1.png](data:image/png;base64,iVBORw0KGgoAAAANSUhEUgAAAS4AAACuCAIAAAAH5Xd4AAAAAXNSR0IArs4c6QAAAARnQU1BAACxjwv8YQUAAAAJcEhZcwAADsMAAA7DAcdvqGQAAAAhdEVYdENyZWF0aW9uIFRpbWUAMjAyMzowNzoyMSAxMTozMzo0Na3EpU8AAAKtSURBVHhe7d2xjRNBFIBhmzIogQ5INz4JUQGBrwIX4grOARUgJOJN6YASaGO4YBrAXut+7X1f4jeZk19vpA3mOMY4AG/tw/wF3pQUIUGKkCBFSJAiJEgREu79mLGcr3OCd2C9nOa0tQ1S/Pjp8zzArv398/txKbqgQoIUIUGKkCBFSJAiJEgREqQICVKEBClCghQhQYqQIEVIkCIkSBESpAgJUoQEKUKCFCFBipAgRUiQIiRIERKkCAlShAQpQoIUIUGKkCBFSJAiJEgREqQICVKEBClCggfA4T90Xx1+3D+Dd+XerfjqdTGuX57nAfZr+fniLX7YOSlCghQhQYqQIEVIkCIkSBESpAgJUoQEKUKCFCFBipAgRUiQIiRIERKkCAlShAQpQoIUIUGKkCBFSJAiJEgREqQICVKEBClCghQhQYqQIEVIkCIkSBESpAgJUoQEKUKCFCFBipAgRUg4jjHmeKvlfJ0T7N16Oc1pa7YiJGyzFb9++zUPsF8/vj/ZirBzUoQEKUKCFCFBipAgRUiQIiRIERKkCAlShAQpQoIUIUGKkCBFSJAiJEgREqQICVKEBClCghQhQYqQIEVIkCIkSBESpAgJUoQEKUKCFCFBipAgRUiQIiRIERKkCAlShAQpQoIUIUGKkHAcY8zxVsv5OifYu/VymtPWtklxvTzPA+zXcn55XIouqJAgRUiQIiRIERKkCAlShAQpQoIUIUGKkCBFSJAiJEgREqQICVKEBClCghQhQYqQIEVIkCIkSBESpAgJUoQEKUKCFCFBipAgRUiQIiRIERKkCAlShAQpQoIUIUGKkCBFSJAiJEgREqQICccxxhxvtZyvc4K9Wy+nOW1tgxSB+7mgQoIUIUGKkCBFSJAiJEgREqQICVKEBClCghQhQYoQcDj8A8xPSuD9UkBiAAAAAElFTkSuQmCC)"
      ],
      "metadata": {
        "id": "VEjvhEjYDm62"
      }
    },
    {
      "cell_type": "markdown",
      "source": [
        "Flatten Image"
      ],
      "metadata": {
        "id": "vq3MrnuWDsho"
      }
    },
    {
      "cell_type": "markdown",
      "source": [
        "![k2.png](data:image/png;base64,iVBORw0KGgoAAAANSUhEUgAAAlAAAABmCAIAAACLPDiLAAAAAXNSR0IArs4c6QAAAARnQU1BAACxjwv8YQUAAAAJcEhZcwAADsMAAA7DAcdvqGQAAAAhdEVYdENyZWF0aW9uIFRpbWUAMjAyMzowNzoyMSAxMTozMzo0Na3EpU8AAAIhSURBVHhe7dixTVxBFEDRPy6DEujAKaSWRQVOkBuAOrYDSKjAQiLc1C24BJcxJpgO2PV+cc9J5k389P+VZsw5NwD47L6sEwA+NcEDIEHwAEgQPAASBA+ABMEDIEHwAEgQPAASBA+ABMEDIEHwAEgQPAASBA+ABMEDIEHwAEgQPAASBA+ABMEDIEHwAEgQPAASBA+ABMEDIEHwAEgQPAASBA+ABMEDIEHwAEgQPAASBA+ABMEDIEHwAEgQPAASxpxzjR9z8/C8JvZqjNPsmjMY22Y7l2UFFzeOh/s1nscpg3d1/XVd2KW/f34fv/9cF/bk9vXp/W979+Nt3fnvfr18e1/B8eADuZjbx6dzB8+TJgAJggdAguABkCB4ACQIHgAJggdAguABkCB4ACQIHgAJggdAguABkCB4ACQIHgAJggdAguABkCB4ACQIHgAJggdAguABkCB4ACQIHgAJggdAguABkCB4ACQIHgAJggdAguABkCB4ACQIHgAJggdAguABkCB4ACQIHgAJY865xo+5eXheEzs2xhoA9uZ4uF/TeZwseACwZ540AUgQPAASBA+ABMEDIEHwAEgQPAASBA+ABMEDIEHwAEgQPAASBA+ABMEDIEHwAEgQPAASBA+ABMEDIEHwAEgQPAASBA+ABMEDIEHwAEgQPAASBA+ABMEDIEHwAEgQPAASBA+ABMEDIEHwAEgQPAASBA+ABMEDIGDb/gHA9im5IFh8nwAAAABJRU5ErkJggg==)"
      ],
      "metadata": {
        "id": "itJ6GZ48D7Ln"
      }
    },
    {
      "cell_type": "code",
      "source": [
        "df.images.shape"
      ],
      "metadata": {
        "colab": {
          "base_uri": "https://localhost:8080/"
        },
        "id": "6szLPBKTAHRD",
        "outputId": "38ed932c-e114-4f2d-81a5-8935c5f8f9eb"
      },
      "execution_count": null,
      "outputs": [
        {
          "output_type": "execute_result",
          "data": {
            "text/plain": [
              "(1797, 8, 8)"
            ]
          },
          "metadata": {},
          "execution_count": 9
        }
      ]
    },
    {
      "cell_type": "code",
      "source": [
        "df.images[0]"
      ],
      "metadata": {
        "colab": {
          "base_uri": "https://localhost:8080/"
        },
        "id": "eQspjOG7ESGo",
        "outputId": "2c3768ef-113a-4f50-d986-0f85cd5df055"
      },
      "execution_count": null,
      "outputs": [
        {
          "output_type": "execute_result",
          "data": {
            "text/plain": [
              "array([[ 0.,  0.,  5., 13.,  9.,  1.,  0.,  0.],\n",
              "       [ 0.,  0., 13., 15., 10., 15.,  5.,  0.],\n",
              "       [ 0.,  3., 15.,  2.,  0., 11.,  8.,  0.],\n",
              "       [ 0.,  4., 12.,  0.,  0.,  8.,  8.,  0.],\n",
              "       [ 0.,  5.,  8.,  0.,  0.,  9.,  8.,  0.],\n",
              "       [ 0.,  4., 11.,  0.,  1., 12.,  7.,  0.],\n",
              "       [ 0.,  2., 14.,  5., 10., 12.,  0.,  0.],\n",
              "       [ 0.,  0.,  6., 13., 10.,  0.,  0.,  0.]])"
            ]
          },
          "metadata": {},
          "execution_count": 10
        }
      ]
    },
    {
      "cell_type": "code",
      "source": [
        "df.images[0].shape"
      ],
      "metadata": {
        "colab": {
          "base_uri": "https://localhost:8080/"
        },
        "id": "3gHcevq_EXFT",
        "outputId": "fb3a63a0-4963-4211-8d26-451c8d203c8c"
      },
      "execution_count": null,
      "outputs": [
        {
          "output_type": "execute_result",
          "data": {
            "text/plain": [
              "(8, 8)"
            ]
          },
          "metadata": {},
          "execution_count": 11
        }
      ]
    },
    {
      "cell_type": "code",
      "source": [
        "len(df.images)"
      ],
      "metadata": {
        "colab": {
          "base_uri": "https://localhost:8080/"
        },
        "id": "rIv6Z7YVEeGO",
        "outputId": "0df0a6da-31cc-47ae-c3bd-8bbae55c6aeb"
      },
      "execution_count": null,
      "outputs": [
        {
          "output_type": "execute_result",
          "data": {
            "text/plain": [
              "1797"
            ]
          },
          "metadata": {},
          "execution_count": 12
        }
      ]
    },
    {
      "cell_type": "code",
      "source": [
        "n_samples=len(df.images)\n",
        "data=df.images.reshape((n_samples,-1))"
      ],
      "metadata": {
        "id": "L57s1ofZEfr1"
      },
      "execution_count": null,
      "outputs": []
    },
    {
      "cell_type": "code",
      "source": [
        "data[0]"
      ],
      "metadata": {
        "colab": {
          "base_uri": "https://localhost:8080/"
        },
        "id": "pUSPUTd3Ep-1",
        "outputId": "87a0bd80-bf94-4fe5-aea6-a45be6386e12"
      },
      "execution_count": null,
      "outputs": [
        {
          "output_type": "execute_result",
          "data": {
            "text/plain": [
              "array([ 0.,  0.,  5., 13.,  9.,  1.,  0.,  0.,  0.,  0., 13., 15., 10.,\n",
              "       15.,  5.,  0.,  0.,  3., 15.,  2.,  0., 11.,  8.,  0.,  0.,  4.,\n",
              "       12.,  0.,  0.,  8.,  8.,  0.,  0.,  5.,  8.,  0.,  0.,  9.,  8.,\n",
              "        0.,  0.,  4., 11.,  0.,  1., 12.,  7.,  0.,  0.,  2., 14.,  5.,\n",
              "       10., 12.,  0.,  0.,  0.,  0.,  6., 13., 10.,  0.,  0.,  0.])"
            ]
          },
          "metadata": {},
          "execution_count": 14
        }
      ]
    },
    {
      "cell_type": "code",
      "source": [
        "data[0].shape"
      ],
      "metadata": {
        "colab": {
          "base_uri": "https://localhost:8080/"
        },
        "id": "5-OJsS9qErQK",
        "outputId": "e9ccf5e4-5afd-4df6-bbfe-ad6986db1dbd"
      },
      "execution_count": null,
      "outputs": [
        {
          "output_type": "execute_result",
          "data": {
            "text/plain": [
              "(64,)"
            ]
          },
          "metadata": {},
          "execution_count": 15
        }
      ]
    },
    {
      "cell_type": "code",
      "source": [
        "data.shape"
      ],
      "metadata": {
        "colab": {
          "base_uri": "https://localhost:8080/"
        },
        "id": "5caXmgeZEvDY",
        "outputId": "6700c1ed-3e38-4792-ff7d-44bdae857814"
      },
      "execution_count": null,
      "outputs": [
        {
          "output_type": "execute_result",
          "data": {
            "text/plain": [
              "(1797, 64)"
            ]
          },
          "metadata": {},
          "execution_count": 16
        }
      ]
    },
    {
      "cell_type": "markdown",
      "source": [
        "## **Scaling image data**"
      ],
      "metadata": {
        "id": "GwtzyVsyE0vd"
      }
    },
    {
      "cell_type": "code",
      "source": [
        "data.min()"
      ],
      "metadata": {
        "colab": {
          "base_uri": "https://localhost:8080/"
        },
        "id": "ar5EO745EyCf",
        "outputId": "1b189b12-b862-4a76-c2fc-9c4313d390aa"
      },
      "execution_count": null,
      "outputs": [
        {
          "output_type": "execute_result",
          "data": {
            "text/plain": [
              "0.0"
            ]
          },
          "metadata": {},
          "execution_count": 17
        }
      ]
    },
    {
      "cell_type": "code",
      "source": [
        "data.max()"
      ],
      "metadata": {
        "colab": {
          "base_uri": "https://localhost:8080/"
        },
        "id": "Ny-TWLIiE8U5",
        "outputId": "97da8a02-19b5-40ff-c683-4302feb6f53b"
      },
      "execution_count": null,
      "outputs": [
        {
          "output_type": "execute_result",
          "data": {
            "text/plain": [
              "16.0"
            ]
          },
          "metadata": {},
          "execution_count": 18
        }
      ]
    },
    {
      "cell_type": "code",
      "source": [
        "data=data/16"
      ],
      "metadata": {
        "id": "HpPQqTHFE9m_"
      },
      "execution_count": null,
      "outputs": []
    },
    {
      "cell_type": "code",
      "source": [
        "data.min()"
      ],
      "metadata": {
        "colab": {
          "base_uri": "https://localhost:8080/"
        },
        "id": "C4k1lTUeFEFs",
        "outputId": "bee2fb26-24e8-4c92-cc2d-8fe055f8b434"
      },
      "execution_count": null,
      "outputs": [
        {
          "output_type": "execute_result",
          "data": {
            "text/plain": [
              "0.0"
            ]
          },
          "metadata": {},
          "execution_count": 20
        }
      ]
    },
    {
      "cell_type": "code",
      "source": [
        "data.max()"
      ],
      "metadata": {
        "colab": {
          "base_uri": "https://localhost:8080/"
        },
        "id": "7yAJ4jRPFFcR",
        "outputId": "71d38142-7992-4671-fe59-05620533caad"
      },
      "execution_count": null,
      "outputs": [
        {
          "output_type": "execute_result",
          "data": {
            "text/plain": [
              "1.0"
            ]
          },
          "metadata": {},
          "execution_count": 21
        }
      ]
    },
    {
      "cell_type": "code",
      "source": [
        "data[0]"
      ],
      "metadata": {
        "colab": {
          "base_uri": "https://localhost:8080/"
        },
        "id": "i4pchYaOFG6m",
        "outputId": "00d805a4-0cf6-4e51-d88c-5fd9d36b9b5d"
      },
      "execution_count": null,
      "outputs": [
        {
          "output_type": "execute_result",
          "data": {
            "text/plain": [
              "array([0.    , 0.    , 0.3125, 0.8125, 0.5625, 0.0625, 0.    , 0.    ,\n",
              "       0.    , 0.    , 0.8125, 0.9375, 0.625 , 0.9375, 0.3125, 0.    ,\n",
              "       0.    , 0.1875, 0.9375, 0.125 , 0.    , 0.6875, 0.5   , 0.    ,\n",
              "       0.    , 0.25  , 0.75  , 0.    , 0.    , 0.5   , 0.5   , 0.    ,\n",
              "       0.    , 0.3125, 0.5   , 0.    , 0.    , 0.5625, 0.5   , 0.    ,\n",
              "       0.    , 0.25  , 0.6875, 0.    , 0.0625, 0.75  , 0.4375, 0.    ,\n",
              "       0.    , 0.125 , 0.875 , 0.3125, 0.625 , 0.75  , 0.    , 0.    ,\n",
              "       0.    , 0.    , 0.375 , 0.8125, 0.625 , 0.    , 0.    , 0.    ])"
            ]
          },
          "metadata": {},
          "execution_count": 22
        }
      ]
    },
    {
      "cell_type": "markdown",
      "source": [
        "## **Train Test Split Data**"
      ],
      "metadata": {
        "id": "ZtaGTv7iFXB_"
      }
    },
    {
      "cell_type": "code",
      "source": [
        "from sklearn.model_selection import train_test_split"
      ],
      "metadata": {
        "id": "rYJGdpBKFL4J"
      },
      "execution_count": null,
      "outputs": []
    },
    {
      "cell_type": "code",
      "source": [
        "x_train,x_test,y_train,y_test=train_test_split(data,df.target,test_size=0.3)"
      ],
      "metadata": {
        "id": "G7IqOpRCFil-"
      },
      "execution_count": null,
      "outputs": []
    },
    {
      "cell_type": "code",
      "source": [
        "x_train.shape,x_test.shape,y_train.shape,y_test.shape"
      ],
      "metadata": {
        "colab": {
          "base_uri": "https://localhost:8080/"
        },
        "id": "e0TfRvjZFrvI",
        "outputId": "c234bb9d-3737-4d60-f91e-64115b61c3f7"
      },
      "execution_count": null,
      "outputs": [
        {
          "output_type": "execute_result",
          "data": {
            "text/plain": [
              "((1257, 64), (540, 64), (1257,), (540,))"
            ]
          },
          "metadata": {},
          "execution_count": 25
        }
      ]
    },
    {
      "cell_type": "markdown",
      "source": [
        "## **Random Forest Model**"
      ],
      "metadata": {
        "id": "bw0lAh42F2pC"
      }
    },
    {
      "cell_type": "code",
      "source": [
        "from sklearn.ensemble import RandomForestClassifier"
      ],
      "metadata": {
        "id": "NXZKXVw8FycH"
      },
      "execution_count": null,
      "outputs": []
    },
    {
      "cell_type": "code",
      "source": [
        "rf=RandomForestClassifier()"
      ],
      "metadata": {
        "id": "Y-75lYGbGBWV"
      },
      "execution_count": null,
      "outputs": []
    },
    {
      "cell_type": "code",
      "source": [
        "rf.fit(x_train,y_train)"
      ],
      "metadata": {
        "colab": {
          "base_uri": "https://localhost:8080/",
          "height": 75
        },
        "id": "imStl9QyGSjG",
        "outputId": "3331d363-f450-4af9-8a0d-786da5344a71"
      },
      "execution_count": null,
      "outputs": [
        {
          "output_type": "execute_result",
          "data": {
            "text/plain": [
              "RandomForestClassifier()"
            ],
            "text/html": [
              "<style>#sk-container-id-1 {color: black;background-color: white;}#sk-container-id-1 pre{padding: 0;}#sk-container-id-1 div.sk-toggleable {background-color: white;}#sk-container-id-1 label.sk-toggleable__label {cursor: pointer;display: block;width: 100%;margin-bottom: 0;padding: 0.3em;box-sizing: border-box;text-align: center;}#sk-container-id-1 label.sk-toggleable__label-arrow:before {content: \"▸\";float: left;margin-right: 0.25em;color: #696969;}#sk-container-id-1 label.sk-toggleable__label-arrow:hover:before {color: black;}#sk-container-id-1 div.sk-estimator:hover label.sk-toggleable__label-arrow:before {color: black;}#sk-container-id-1 div.sk-toggleable__content {max-height: 0;max-width: 0;overflow: hidden;text-align: left;background-color: #f0f8ff;}#sk-container-id-1 div.sk-toggleable__content pre {margin: 0.2em;color: black;border-radius: 0.25em;background-color: #f0f8ff;}#sk-container-id-1 input.sk-toggleable__control:checked~div.sk-toggleable__content {max-height: 200px;max-width: 100%;overflow: auto;}#sk-container-id-1 input.sk-toggleable__control:checked~label.sk-toggleable__label-arrow:before {content: \"▾\";}#sk-container-id-1 div.sk-estimator input.sk-toggleable__control:checked~label.sk-toggleable__label {background-color: #d4ebff;}#sk-container-id-1 div.sk-label input.sk-toggleable__control:checked~label.sk-toggleable__label {background-color: #d4ebff;}#sk-container-id-1 input.sk-hidden--visually {border: 0;clip: rect(1px 1px 1px 1px);clip: rect(1px, 1px, 1px, 1px);height: 1px;margin: -1px;overflow: hidden;padding: 0;position: absolute;width: 1px;}#sk-container-id-1 div.sk-estimator {font-family: monospace;background-color: #f0f8ff;border: 1px dotted black;border-radius: 0.25em;box-sizing: border-box;margin-bottom: 0.5em;}#sk-container-id-1 div.sk-estimator:hover {background-color: #d4ebff;}#sk-container-id-1 div.sk-parallel-item::after {content: \"\";width: 100%;border-bottom: 1px solid gray;flex-grow: 1;}#sk-container-id-1 div.sk-label:hover label.sk-toggleable__label {background-color: #d4ebff;}#sk-container-id-1 div.sk-serial::before {content: \"\";position: absolute;border-left: 1px solid gray;box-sizing: border-box;top: 0;bottom: 0;left: 50%;z-index: 0;}#sk-container-id-1 div.sk-serial {display: flex;flex-direction: column;align-items: center;background-color: white;padding-right: 0.2em;padding-left: 0.2em;position: relative;}#sk-container-id-1 div.sk-item {position: relative;z-index: 1;}#sk-container-id-1 div.sk-parallel {display: flex;align-items: stretch;justify-content: center;background-color: white;position: relative;}#sk-container-id-1 div.sk-item::before, #sk-container-id-1 div.sk-parallel-item::before {content: \"\";position: absolute;border-left: 1px solid gray;box-sizing: border-box;top: 0;bottom: 0;left: 50%;z-index: -1;}#sk-container-id-1 div.sk-parallel-item {display: flex;flex-direction: column;z-index: 1;position: relative;background-color: white;}#sk-container-id-1 div.sk-parallel-item:first-child::after {align-self: flex-end;width: 50%;}#sk-container-id-1 div.sk-parallel-item:last-child::after {align-self: flex-start;width: 50%;}#sk-container-id-1 div.sk-parallel-item:only-child::after {width: 0;}#sk-container-id-1 div.sk-dashed-wrapped {border: 1px dashed gray;margin: 0 0.4em 0.5em 0.4em;box-sizing: border-box;padding-bottom: 0.4em;background-color: white;}#sk-container-id-1 div.sk-label label {font-family: monospace;font-weight: bold;display: inline-block;line-height: 1.2em;}#sk-container-id-1 div.sk-label-container {text-align: center;}#sk-container-id-1 div.sk-container {/* jupyter's `normalize.less` sets `[hidden] { display: none; }` but bootstrap.min.css set `[hidden] { display: none !important; }` so we also need the `!important` here to be able to override the default hidden behavior on the sphinx rendered scikit-learn.org. See: https://github.com/scikit-learn/scikit-learn/issues/21755 */display: inline-block !important;position: relative;}#sk-container-id-1 div.sk-text-repr-fallback {display: none;}</style><div id=\"sk-container-id-1\" class=\"sk-top-container\"><div class=\"sk-text-repr-fallback\"><pre>RandomForestClassifier()</pre><b>In a Jupyter environment, please rerun this cell to show the HTML representation or trust the notebook. <br />On GitHub, the HTML representation is unable to render, please try loading this page with nbviewer.org.</b></div><div class=\"sk-container\" hidden><div class=\"sk-item\"><div class=\"sk-estimator sk-toggleable\"><input class=\"sk-toggleable__control sk-hidden--visually\" id=\"sk-estimator-id-1\" type=\"checkbox\" checked><label for=\"sk-estimator-id-1\" class=\"sk-toggleable__label sk-toggleable__label-arrow\">RandomForestClassifier</label><div class=\"sk-toggleable__content\"><pre>RandomForestClassifier()</pre></div></div></div></div></div>"
            ]
          },
          "metadata": {},
          "execution_count": 29
        }
      ]
    },
    {
      "cell_type": "markdown",
      "source": [
        "## **Predict Test Data**"
      ],
      "metadata": {
        "id": "GmbS_OLzGXn4"
      }
    },
    {
      "cell_type": "code",
      "source": [
        "y_pred=rf.predict(x_test)"
      ],
      "metadata": {
        "id": "MqRg5H57GUtx"
      },
      "execution_count": null,
      "outputs": []
    },
    {
      "cell_type": "code",
      "source": [
        "y_pred"
      ],
      "metadata": {
        "colab": {
          "base_uri": "https://localhost:8080/"
        },
        "id": "KLnz6_jnGhZd",
        "outputId": "b04af3ac-ec04-4a09-82a7-cc320d36f59a"
      },
      "execution_count": null,
      "outputs": [
        {
          "output_type": "execute_result",
          "data": {
            "text/plain": [
              "array([1, 9, 6, 5, 1, 6, 7, 6, 4, 7, 5, 4, 5, 8, 7, 6, 8, 8, 0, 6, 6, 9,\n",
              "       6, 2, 8, 6, 7, 7, 7, 4, 9, 0, 7, 0, 5, 5, 0, 6, 0, 3, 5, 5, 9, 5,\n",
              "       7, 9, 9, 7, 5, 6, 4, 5, 1, 4, 1, 1, 5, 0, 5, 5, 4, 3, 6, 2, 8, 2,\n",
              "       8, 7, 4, 8, 3, 4, 6, 4, 0, 0, 3, 4, 4, 9, 7, 9, 9, 2, 6, 9, 0, 4,\n",
              "       7, 1, 6, 4, 5, 3, 9, 9, 4, 7, 1, 7, 3, 6, 2, 3, 4, 2, 2, 7, 4, 2,\n",
              "       8, 0, 6, 1, 7, 2, 7, 9, 8, 6, 9, 1, 0, 3, 0, 7, 6, 3, 4, 1, 3, 7,\n",
              "       3, 5, 0, 2, 4, 0, 3, 0, 9, 2, 3, 7, 1, 3, 6, 8, 6, 4, 2, 7, 7, 0,\n",
              "       9, 7, 9, 8, 3, 5, 6, 9, 9, 4, 2, 6, 4, 0, 5, 4, 8, 9, 9, 1, 1, 8,\n",
              "       1, 5, 0, 1, 3, 2, 4, 5, 1, 5, 6, 6, 8, 6, 9, 1, 6, 2, 1, 7, 0, 0,\n",
              "       3, 3, 4, 2, 3, 9, 6, 3, 6, 9, 2, 1, 8, 4, 8, 1, 0, 3, 1, 7, 7, 8,\n",
              "       9, 9, 7, 0, 9, 2, 8, 5, 7, 7, 2, 9, 4, 4, 6, 9, 1, 0, 1, 9, 4, 5,\n",
              "       0, 2, 4, 8, 9, 7, 3, 1, 0, 9, 8, 9, 4, 6, 5, 9, 2, 5, 2, 1, 4, 3,\n",
              "       0, 5, 8, 6, 2, 3, 4, 1, 8, 2, 0, 2, 9, 2, 9, 2, 4, 4, 3, 6, 0, 2,\n",
              "       1, 4, 2, 4, 8, 3, 8, 4, 4, 1, 1, 5, 6, 8, 4, 5, 2, 3, 2, 1, 6, 4,\n",
              "       8, 8, 4, 1, 3, 0, 5, 2, 8, 1, 5, 4, 7, 5, 0, 7, 7, 5, 7, 5, 5, 9,\n",
              "       8, 1, 8, 2, 8, 8, 5, 0, 3, 4, 3, 9, 1, 3, 5, 9, 3, 3, 3, 9, 5, 9,\n",
              "       9, 0, 1, 9, 8, 7, 1, 5, 0, 4, 7, 2, 6, 3, 2, 6, 8, 1, 0, 7, 1, 9,\n",
              "       1, 5, 8, 1, 4, 8, 7, 7, 3, 3, 6, 7, 0, 6, 5, 2, 7, 6, 3, 7, 3, 7,\n",
              "       2, 3, 8, 9, 1, 3, 4, 7, 7, 7, 4, 3, 8, 3, 1, 5, 0, 3, 0, 2, 9, 7,\n",
              "       8, 4, 7, 7, 3, 5, 8, 0, 4, 9, 0, 3, 5, 4, 4, 4, 5, 4, 1, 7, 7, 7,\n",
              "       9, 5, 4, 9, 7, 6, 7, 8, 9, 7, 6, 5, 9, 7, 8, 8, 7, 0, 5, 1, 9, 2,\n",
              "       7, 8, 4, 4, 5, 2, 8, 6, 0, 3, 5, 6, 7, 7, 2, 2, 5, 9, 4, 4, 4, 0,\n",
              "       0, 7, 0, 4, 3, 0, 3, 6, 6, 1, 8, 7, 8, 9, 2, 9, 3, 7, 2, 8, 1, 8,\n",
              "       1, 2, 1, 1, 1, 7, 0, 3, 6, 6, 9, 4, 1, 7, 0, 1, 4, 9, 8, 5, 2, 3,\n",
              "       6, 6, 6, 1, 3, 5, 0, 1, 9, 6, 9, 1])"
            ]
          },
          "metadata": {},
          "execution_count": 31
        }
      ]
    },
    {
      "cell_type": "markdown",
      "source": [
        "## **Model Accuracy**"
      ],
      "metadata": {
        "id": "DdmQBCLdG-vL"
      }
    },
    {
      "cell_type": "code",
      "source": [
        "from sklearn.metrics import confusion_matrix,classification_report"
      ],
      "metadata": {
        "id": "S1DCLvU5GiSe"
      },
      "execution_count": null,
      "outputs": []
    },
    {
      "cell_type": "code",
      "source": [
        "confusion_matrix(y_test,y_pred)"
      ],
      "metadata": {
        "colab": {
          "base_uri": "https://localhost:8080/"
        },
        "id": "EoaEXCIAHKoQ",
        "outputId": "b00378ff-04af-4af9-bd95-77e9257a052e"
      },
      "execution_count": null,
      "outputs": [
        {
          "output_type": "execute_result",
          "data": {
            "text/plain": [
              "array([[48,  0,  0,  0,  1,  0,  0,  0,  0,  0],\n",
              "       [ 0, 52,  0,  0,  0,  0,  0,  0,  1,  0],\n",
              "       [ 0,  0, 46,  0,  0,  0,  0,  0,  0,  0],\n",
              "       [ 0,  0,  0, 51,  0,  0,  0,  0,  1,  0],\n",
              "       [ 0,  0,  0,  0, 61,  0,  0,  0,  0,  0],\n",
              "       [ 0,  0,  0,  1,  0, 49,  0,  0,  0,  1],\n",
              "       [ 0,  0,  0,  0,  0,  1, 51,  0,  0,  0],\n",
              "       [ 0,  0,  0,  0,  0,  0,  0, 65,  0,  0],\n",
              "       [ 0,  3,  0,  0,  0,  0,  0,  0, 48,  0],\n",
              "       [ 0,  0,  0,  1,  0,  1,  0,  0,  0, 58]])"
            ]
          },
          "metadata": {},
          "execution_count": 33
        }
      ]
    },
    {
      "cell_type": "code",
      "source": [
        "print(classification_report(y_test,y_pred))"
      ],
      "metadata": {
        "colab": {
          "base_uri": "https://localhost:8080/"
        },
        "id": "ggQ0AZ0AHOxz",
        "outputId": "01af4dd3-5da7-47e3-e184-a05dcb234437"
      },
      "execution_count": null,
      "outputs": [
        {
          "output_type": "stream",
          "name": "stdout",
          "text": [
            "              precision    recall  f1-score   support\n",
            "\n",
            "           0       1.00      0.98      0.99        49\n",
            "           1       0.95      0.98      0.96        53\n",
            "           2       1.00      1.00      1.00        46\n",
            "           3       0.96      0.98      0.97        52\n",
            "           4       0.98      1.00      0.99        61\n",
            "           5       0.96      0.96      0.96        51\n",
            "           6       1.00      0.98      0.99        52\n",
            "           7       1.00      1.00      1.00        65\n",
            "           8       0.96      0.94      0.95        51\n",
            "           9       0.98      0.97      0.97        60\n",
            "\n",
            "    accuracy                           0.98       540\n",
            "   macro avg       0.98      0.98      0.98       540\n",
            "weighted avg       0.98      0.98      0.98       540\n",
            "\n"
          ]
        }
      ]
    },
    {
      "cell_type": "code",
      "source": [],
      "metadata": {
        "id": "oqGCFUp4HWKt"
      },
      "execution_count": null,
      "outputs": []
    }
  ]
}